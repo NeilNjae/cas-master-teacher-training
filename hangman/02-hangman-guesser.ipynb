{
 "metadata": {
  "name": "",
  "signature": "sha256:393162de43635426518dd3dca8100dca49558a55f990aede7c52f3a98de60612"
 },
 "nbformat": 3,
 "nbformat_minor": 0,
 "worksheets": [
  {
   "cells": [
    {
     "cell_type": "markdown",
     "metadata": {},
     "source": [
      "# Hangman 2: the guesser\n",
      "Note that we're not trying to do anything clever here. We're just trying to make something that makes a series of legal moves in the game and that sometimes might win. We want to get something that fits the player-sized hole when we put the setter and guesser together. The clever players come later. \n",
      "\n",
      "We also need to think about how to have the guesser interact with a human setter, so that it can play against a human. It won't get much use, but we should have it for completeness.\n",
      "\n",
      "But before we can build something that fits the hole, we need to understand what shape the hole is. What is the interface between the guesser and the setter?\n",
      "\n",
      "Spoiler space\n",
      "\n",
      ".\n",
      "\n",
      ".\n",
      "\n",
      ".\n",
      "\n",
      ".\n",
      "\n",
      ".\n",
      "\n",
      ".\n",
      "\n",
      "."
     ]
    },
    {
     "cell_type": "markdown",
     "metadata": {},
     "source": [
      "The guesser only really needs to do one thing: make a guess. We'll say that the setter passes in the complete state of the game (disovered template, lives remaining, and wrong letters guessed) and the guesser simply returns the guess.\n",
      "\n",
      "Someone needs to keep track of the incorrect guesses so that the guesser doesn't keep making the same wrong guess. As the setter is already keeping track of the rest of the state, it's probably easier if the setter also keeps track of the wrong letters. That might allow us to keep the guesser state-free, which will keep it simpler. "
     ]
    },
    {
     "cell_type": "markdown",
     "metadata": {},
     "source": [
      "## Basic strategy\n",
      "\n",
      "Our first strategy is to simply guess the letters in order, with \"order\" defined as how often the letters appear in English running text. That means we need to read some English text and count the letters."
     ]
    },
    {
     "cell_type": "code",
     "collapsed": false,
     "input": [
      "import string\n",
      "import collections"
     ],
     "language": "python",
     "metadata": {},
     "outputs": [],
     "prompt_number": 1
    },
    {
     "cell_type": "markdown",
     "metadata": {},
     "source": [
      "The `collections` standard library contains all sorts of fun stuff. The `Counter` object is very useful. Take a look at the documentation for what it does. We'll be using two features here: generate a `dict`-like thing of counts, and return the things in frequency order.\n",
      "\n",
      "First, let's read all the letters in *The Complete Works of Sherlock Holmes*."
     ]
    },
    {
     "cell_type": "code",
     "collapsed": false,
     "input": [
      "letter_counts = collections.Counter(l.lower() for l in open('../sherlock-holmes.txt').read() if l in string.ascii_letters)\n",
      "letter_counts"
     ],
     "language": "python",
     "metadata": {},
     "outputs": [
      {
       "metadata": {},
       "output_type": "pyout",
       "prompt_number": 3,
       "text": [
        "Counter({'e': 53111, 't': 38981, 'a': 35137, 'o': 33512, 'i': 30140, 'h': 29047, 'n': 28682, 's': 27194, 'r': 24508, 'd': 18563, 'l': 17145, 'u': 13116, 'm': 11787, 'w': 11266, 'c': 10499, 'y': 9431, 'f': 8975, 'g': 7887, 'p': 6835, 'b': 6362, 'v': 4452, 'k': 3543, 'x': 549, 'j': 452, 'q': 426, 'z': 149})"
       ]
      }
     ],
     "prompt_number": 3
    },
    {
     "cell_type": "markdown",
     "metadata": {},
     "source": [
      "Now, let's get them listed in order."
     ]
    },
    {
     "cell_type": "code",
     "collapsed": false,
     "input": [
      "letter_counts.most_common()"
     ],
     "language": "python",
     "metadata": {},
     "outputs": [
      {
       "metadata": {},
       "output_type": "pyout",
       "prompt_number": 6,
       "text": [
        "[('e', 53111),\n",
        " ('t', 38981),\n",
        " ('a', 35137),\n",
        " ('o', 33512),\n",
        " ('i', 30140),\n",
        " ('h', 29047),\n",
        " ('n', 28682),\n",
        " ('s', 27194),\n",
        " ('r', 24508),\n",
        " ('d', 18563),\n",
        " ('l', 17145),\n",
        " ('u', 13116),\n",
        " ('m', 11787),\n",
        " ('w', 11266),\n",
        " ('c', 10499),\n",
        " ('y', 9431),\n",
        " ('f', 8975),\n",
        " ('g', 7887),\n",
        " ('p', 6835),\n",
        " ('b', 6362),\n",
        " ('v', 4452),\n",
        " ('k', 3543),\n",
        " ('x', 549),\n",
        " ('j', 452),\n",
        " ('q', 426),\n",
        " ('z', 149)]"
       ]
      }
     ],
     "prompt_number": 6
    },
    {
     "cell_type": "code",
     "collapsed": false,
     "input": [
      "letters_in_order = [p[0] for p in letter_counts.most_common()]\n",
      "letters_in_order"
     ],
     "language": "python",
     "metadata": {},
     "outputs": [
      {
       "metadata": {},
       "output_type": "pyout",
       "prompt_number": 4,
       "text": [
        "['e',\n",
        " 't',\n",
        " 'a',\n",
        " 'o',\n",
        " 'i',\n",
        " 'h',\n",
        " 'n',\n",
        " 's',\n",
        " 'r',\n",
        " 'd',\n",
        " 'l',\n",
        " 'u',\n",
        " 'm',\n",
        " 'w',\n",
        " 'c',\n",
        " 'y',\n",
        " 'f',\n",
        " 'g',\n",
        " 'p',\n",
        " 'b',\n",
        " 'v',\n",
        " 'k',\n",
        " 'x',\n",
        " 'j',\n",
        " 'q',\n",
        " 'z']"
       ]
      }
     ],
     "prompt_number": 4
    },
    {
     "cell_type": "code",
     "collapsed": false,
     "input": [
      "def make_guess():\n",
      "    guessed_letters = read_game()\n",
      "    unguessed_letters_in_order = ordered_subtract(letters_in_order, guessed_letters)\n",
      "    print('My guess is:', unguessed_letters_in_order[0])"
     ],
     "language": "python",
     "metadata": {},
     "outputs": [],
     "prompt_number": 29
    },
    {
     "cell_type": "code",
     "collapsed": false,
     "input": [
      "def read_game():\n",
      "    discovered = input('Enter the discovered word: ')\n",
      "    missed = input('Enter the wrong guesses: ')\n",
      "    return [l for l in lower(discovered + missed) if l in string.ascii_letters]"
     ],
     "language": "python",
     "metadata": {},
     "outputs": [],
     "prompt_number": 30
    },
    {
     "cell_type": "code",
     "collapsed": false,
     "input": [
      "def ordered_subtract(ordered_list, to_remove):\n",
      "    for r in to_remove:\n",
      "        if r in ordered_list:\n",
      "            ordered_list.remove(r)\n",
      "    return ordered_list"
     ],
     "language": "python",
     "metadata": {},
     "outputs": [],
     "prompt_number": 19
    },
    {
     "cell_type": "code",
     "collapsed": false,
     "input": [
      "letters_in_order"
     ],
     "language": "python",
     "metadata": {},
     "outputs": [
      {
       "metadata": {},
       "output_type": "pyout",
       "prompt_number": 20,
       "text": [
        "['e',\n",
        " 't',\n",
        " 'a',\n",
        " 'o',\n",
        " 'i',\n",
        " 'h',\n",
        " 'n',\n",
        " 's',\n",
        " 'r',\n",
        " 'd',\n",
        " 'l',\n",
        " 'u',\n",
        " 'm',\n",
        " 'w',\n",
        " 'c',\n",
        " 'y',\n",
        " 'f',\n",
        " 'g',\n",
        " 'p',\n",
        " 'b',\n",
        " 'v',\n",
        " 'k',\n",
        " 'x',\n",
        " 'j',\n",
        " 'q',\n",
        " 'z']"
       ]
      }
     ],
     "prompt_number": 20
    },
    {
     "cell_type": "code",
     "collapsed": false,
     "input": [
      "ordered_subtract(letters_in_order, 'etaoin')"
     ],
     "language": "python",
     "metadata": {},
     "outputs": [
      {
       "metadata": {},
       "output_type": "pyout",
       "prompt_number": 21,
       "text": [
        "['h',\n",
        " 's',\n",
        " 'r',\n",
        " 'd',\n",
        " 'l',\n",
        " 'u',\n",
        " 'm',\n",
        " 'w',\n",
        " 'c',\n",
        " 'y',\n",
        " 'f',\n",
        " 'g',\n",
        " 'p',\n",
        " 'b',\n",
        " 'v',\n",
        " 'k',\n",
        " 'x',\n",
        " 'j',\n",
        " 'q',\n",
        " 'z']"
       ]
      }
     ],
     "prompt_number": 21
    },
    {
     "cell_type": "code",
     "collapsed": false,
     "input": [
      "letters_in_order"
     ],
     "language": "python",
     "metadata": {},
     "outputs": [
      {
       "metadata": {},
       "output_type": "pyout",
       "prompt_number": 22,
       "text": [
        "['h',\n",
        " 's',\n",
        " 'r',\n",
        " 'd',\n",
        " 'l',\n",
        " 'u',\n",
        " 'm',\n",
        " 'w',\n",
        " 'c',\n",
        " 'y',\n",
        " 'f',\n",
        " 'g',\n",
        " 'p',\n",
        " 'b',\n",
        " 'v',\n",
        " 'k',\n",
        " 'x',\n",
        " 'j',\n",
        " 'q',\n",
        " 'z']"
       ]
      }
     ],
     "prompt_number": 22
    },
    {
     "cell_type": "code",
     "collapsed": false,
     "input": [
      "def ordered_subtract(ordered_list, to_remove):\n",
      "    for r in to_remove:\n",
      "        if r in ordered_list:\n",
      "            ri = ordered_list.index(r)\n",
      "            ordered_list = ordered_list[:ri] + ordered_list[ri+1:]\n",
      "    return ordered_list"
     ],
     "language": "python",
     "metadata": {},
     "outputs": [],
     "prompt_number": 26
    },
    {
     "cell_type": "code",
     "collapsed": false,
     "input": [
      "letters_in_order = [p[0] for p in letter_counts.most_common()]\n",
      "letters_in_order"
     ],
     "language": "python",
     "metadata": {},
     "outputs": [
      {
       "metadata": {},
       "output_type": "pyout",
       "prompt_number": 24,
       "text": [
        "['e',\n",
        " 't',\n",
        " 'a',\n",
        " 'o',\n",
        " 'i',\n",
        " 'h',\n",
        " 'n',\n",
        " 's',\n",
        " 'r',\n",
        " 'd',\n",
        " 'l',\n",
        " 'u',\n",
        " 'm',\n",
        " 'w',\n",
        " 'c',\n",
        " 'y',\n",
        " 'f',\n",
        " 'g',\n",
        " 'p',\n",
        " 'b',\n",
        " 'v',\n",
        " 'k',\n",
        " 'x',\n",
        " 'j',\n",
        " 'q',\n",
        " 'z']"
       ]
      }
     ],
     "prompt_number": 24
    },
    {
     "cell_type": "code",
     "collapsed": false,
     "input": [
      "ordered_subtract(letters_in_order, 'etaoin')"
     ],
     "language": "python",
     "metadata": {},
     "outputs": [
      {
       "metadata": {},
       "output_type": "pyout",
       "prompt_number": 27,
       "text": [
        "['h',\n",
        " 's',\n",
        " 'r',\n",
        " 'd',\n",
        " 'l',\n",
        " 'u',\n",
        " 'm',\n",
        " 'w',\n",
        " 'c',\n",
        " 'y',\n",
        " 'f',\n",
        " 'g',\n",
        " 'p',\n",
        " 'b',\n",
        " 'v',\n",
        " 'k',\n",
        " 'x',\n",
        " 'j',\n",
        " 'q',\n",
        " 'z']"
       ]
      }
     ],
     "prompt_number": 27
    },
    {
     "cell_type": "code",
     "collapsed": false,
     "input": [
      "letters_in_order"
     ],
     "language": "python",
     "metadata": {},
     "outputs": [
      {
       "metadata": {},
       "output_type": "pyout",
       "prompt_number": 28,
       "text": [
        "['e',\n",
        " 't',\n",
        " 'a',\n",
        " 'o',\n",
        " 'i',\n",
        " 'h',\n",
        " 'n',\n",
        " 's',\n",
        " 'r',\n",
        " 'd',\n",
        " 'l',\n",
        " 'u',\n",
        " 'm',\n",
        " 'w',\n",
        " 'c',\n",
        " 'y',\n",
        " 'f',\n",
        " 'g',\n",
        " 'p',\n",
        " 'b',\n",
        " 'v',\n",
        " 'k',\n",
        " 'x',\n",
        " 'j',\n",
        " 'q',\n",
        " 'z']"
       ]
      }
     ],
     "prompt_number": 28
    },
    {
     "cell_type": "code",
     "collapsed": false,
     "input": [
      "make_guess()"
     ],
     "language": "python",
     "metadata": {},
     "outputs": [
      {
       "name": "stdout",
       "output_type": "stream",
       "stream": "stdout",
       "text": [
        "Enter the discovered word: _a__y\n"
       ]
      },
      {
       "name": "stdout",
       "output_type": "stream",
       "stream": "stdout",
       "text": [
        "Enter the wrong guesses: eit\n"
       ]
      },
      {
       "output_type": "stream",
       "stream": "stdout",
       "text": [
        "My guess is: o\n"
       ]
      }
     ],
     "prompt_number": 31
    },
    {
     "cell_type": "code",
     "collapsed": false,
     "input": [],
     "language": "python",
     "metadata": {},
     "outputs": []
    }
   ],
   "metadata": {}
  }
 ]
}